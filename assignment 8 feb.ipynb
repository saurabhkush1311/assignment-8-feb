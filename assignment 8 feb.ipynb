{
 "cells": [
  {
   "cell_type": "code",
   "execution_count": 3,
   "id": "501fde6c-ca1a-4e50-a224-8688fc73cc9c",
   "metadata": {},
   "outputs": [],
   "source": [
    "#Question 1:\n",
    "#Answer:\n",
    "\n",
    "\"\"\"Abstraction is the concept of object-oriented programming that “shows” only essential attributes and “hides” unnecessary information.\n",
    "The main purpose of abstraction is hiding the unnecessary details from the users.\"\"\"\n",
    "\n",
    "from abc import ABC,abstractmethod\n",
    "class BankApp(ABC):\n",
    "    \n",
    "    def database(self):\n",
    "        print(\"Connected to database\")\n",
    "        \n",
    "    @abstractmethod\n",
    "    def security(self):\n",
    "        pass\n",
    "    \n",
    "class MobApp(BankApp):\n",
    "    \n",
    "    def mob_login(self):\n",
    "        print(\"Login to mobile\")\n",
    "        \n",
    "    def security(self):\n",
    "        print(\"mobile security\")"
   ]
  },
  {
   "cell_type": "code",
   "execution_count": 5,
   "id": "0040ea9e-4949-419a-9c0f-b9b292a3d303",
   "metadata": {},
   "outputs": [],
   "source": [
    "sbi = MobApp()"
   ]
  },
  {
   "cell_type": "code",
   "execution_count": 7,
   "id": "7a5a49da-d77d-4907-88db-7f5134cc1a18",
   "metadata": {},
   "outputs": [
    {
     "name": "stdout",
     "output_type": "stream",
     "text": [
      "Connected to database\n"
     ]
    }
   ],
   "source": [
    "sbi.database()"
   ]
  },
  {
   "cell_type": "code",
   "execution_count": 8,
   "id": "0223167b-5df1-46d9-bae9-066f12b1800c",
   "metadata": {},
   "outputs": [
    {
     "name": "stdout",
     "output_type": "stream",
     "text": [
      "mobile security\n"
     ]
    }
   ],
   "source": [
    "sbi.security()"
   ]
  },
  {
   "cell_type": "code",
   "execution_count": 9,
   "id": "e489bc54-3068-4282-b28a-49745aa927e5",
   "metadata": {},
   "outputs": [
    {
     "name": "stdout",
     "output_type": "stream",
     "text": [
      "Login to mobile\n"
     ]
    }
   ],
   "source": [
    "sbi.mob_login()"
   ]
  },
  {
   "cell_type": "code",
   "execution_count": 13,
   "id": "7e64ab91-3c92-4372-b90a-3476fbf84712",
   "metadata": {},
   "outputs": [
    {
     "name": "stdout",
     "output_type": "stream",
     "text": [
      "Connected to database\n",
      "mobile security\n",
      "Login to mobile\n"
     ]
    },
    {
     "data": {
      "text/plain": [
       "250"
      ]
     },
     "execution_count": 13,
     "metadata": {},
     "output_type": "execute_result"
    }
   ],
   "source": [
    "#Question 2:\n",
    "#Answer:\n",
    "\"\"\" ABSTRACTION:\n",
    "1. Abstraction is a general concept formed by extracting common features specific examples\n",
    "   or The act of withdrawing or removing somrthing unnecessary.\n",
    "2. You can use abstraction using Interface and abstract class.\n",
    "3. For simplicity, abstraction means hiding implementation using abstract class and interface.\n",
    "\n",
    "ENCAPSULATION:\n",
    "1. Encapsulation is the mechanism that binds together code and the data it manipulates,\n",
    "and keep both safe from outside interface and misuse.\n",
    "2. You can implement encapsulation using Access modifiers (Public, Protected and Private).\n",
    "3. For Simplicity, encapsulation means hiding data using getters and setters.\"\"\"\n",
    "\n",
    "#example of abstraction\n",
    "#Question 1:\n",
    "#Answer:\n",
    "\n",
    "\"\"\"Abstraction is the concept of object-oriented programming that “shows” only essential attributes and “hides” unnecessary information.\n",
    "The main purpose of abstraction is hiding the unnecessary details from the users.\"\"\"\n",
    "\n",
    "from abc import ABC,abstractmethod\n",
    "class BankApp(ABC):\n",
    "    \n",
    "    def database(self):\n",
    "        print(\"Connected to database\")\n",
    "        \n",
    "    @abstractmethod\n",
    "    def security(self):\n",
    "        pass\n",
    "    \n",
    "class MobApp(BankApp):\n",
    "    \n",
    "    def mob_login(self):\n",
    "        print(\"Login to mobile\")\n",
    "        \n",
    "    def security(self):\n",
    "        print(\"mobile security\")\n",
    "        \n",
    "sbi = MobApp()\n",
    "sbi.database()\n",
    "sbi.security()\n",
    "sbi.mob_login()\n",
    "\n",
    "#example of encapsulation\n",
    "class car:\n",
    "    def __init__(self, year,make,model,speed):\n",
    "        self.__year = year\n",
    "        self.__make = make\n",
    "        self.__model = model\n",
    "        self.__speed = 0\n",
    "        \n",
    "    def set_speed(self,speed):\n",
    "        self.__speed = 0 if speed < 0 else speed\n",
    "        \n",
    "    def get_speed(self):\n",
    "        return self.__speed\n",
    "\n",
    "c = car(2023,\"toyota\",\"innova\",12)\n",
    "c._car__year\n",
    "c.get_speed()\n",
    "c.set_speed(250)\n",
    "c.get_speed()\n",
    "                              "
   ]
  },
  {
   "cell_type": "code",
   "execution_count": 14,
   "id": "f663e7ac-fa07-484c-8327-6988b8865138",
   "metadata": {},
   "outputs": [
    {
     "data": {
      "text/plain": [
       "\"The 'abc' module in Python library provides the infrastructure for defining custom abstract base classes. 'abc' works by marking methods of the base class as abstract.\\nThis is done by @absttractmethod decorator.\""
      ]
     },
     "execution_count": 14,
     "metadata": {},
     "output_type": "execute_result"
    }
   ],
   "source": [
    "#Question 3:\n",
    "#Answer:\n",
    "\"\"\"The 'abc' module in Python library provides the infrastructure for defining custom abstract base classes. 'abc' works by marking methods of the base class as abstract.\n",
    "This is done by @absttractmethod decorator.\"\"\""
   ]
  },
  {
   "cell_type": "code",
   "execution_count": 15,
   "id": "70e8b7e1-d458-4448-9dd0-731c999f40f0",
   "metadata": {},
   "outputs": [
    {
     "name": "stdout",
     "output_type": "stream",
     "text": [
      "Connected to database\n",
      "mobile security\n",
      "Login to mobile\n"
     ]
    }
   ],
   "source": [
    "#Question 4:\n",
    "#Answer:\n",
    "\"\"\"Data Abstraction in Python can be achieved through creating abstract classes and inheriting them later.\"\"\"\n",
    "from abc import ABC,abstractmethod\n",
    "class BankApp(ABC):\n",
    "    \n",
    "    def database(self):\n",
    "        print(\"Connected to database\")\n",
    "        \n",
    "    @abstractmethod\n",
    "    def security(self):\n",
    "        pass\n",
    "    \n",
    "class MobApp(BankApp):\n",
    "    \n",
    "    def mob_login(self):\n",
    "        print(\"Login to mobile\")\n",
    "        \n",
    "    def security(self):\n",
    "        print(\"mobile security\")\n",
    "        \n",
    "sbi = MobApp()\n",
    "sbi.database()\n",
    "sbi.security()\n",
    "sbi.mob_login()"
   ]
  },
  {
   "cell_type": "code",
   "execution_count": 20,
   "id": "84c3d63c-17f9-405a-9df8-f7b1da9eaf88",
   "metadata": {},
   "outputs": [
    {
     "ename": "TypeError",
     "evalue": "Can't instantiate abstract class BankApp with abstract method security",
     "output_type": "error",
     "traceback": [
      "\u001b[0;31m---------------------------------------------------------------------------\u001b[0m",
      "\u001b[0;31mTypeError\u001b[0m                                 Traceback (most recent call last)",
      "Cell \u001b[0;32mIn[20], line 22\u001b[0m\n\u001b[1;32m     19\u001b[0m         \u001b[38;5;28mprint\u001b[39m(\u001b[38;5;124m\"\u001b[39m\u001b[38;5;124mmobile security\u001b[39m\u001b[38;5;124m\"\u001b[39m)\n\u001b[1;32m     21\u001b[0m \u001b[38;5;66;03m#trying to create an object of absract class\u001b[39;00m\n\u001b[0;32m---> 22\u001b[0m obj \u001b[38;5;241m=\u001b[39m \u001b[43mBankApp\u001b[49m\u001b[43m(\u001b[49m\u001b[43m)\u001b[49m\n\u001b[1;32m     23\u001b[0m \u001b[38;5;66;03m# IT SHOWS Can't instantiate abstract class BankApp with abstract method security \u001b[39;00m\n",
      "\u001b[0;31mTypeError\u001b[0m: Can't instantiate abstract class BankApp with abstract method security"
     ]
    }
   ],
   "source": [
    "#Question 5:\n",
    "#Answer:\n",
    "\"\"\"Abstract classes are not complete, as they may have some methods that are not defined. So we cannot create an instance or object of an abstract class in Python.\"\"\"\n",
    "class BankApp(ABC): #abstract base class\n",
    "    \n",
    "    def database(self):\n",
    "        print(\"Connected to database\")\n",
    "        \n",
    "    @abstractmethod\n",
    "    def security(self):\n",
    "        pass\n",
    "    \n",
    "class MobApp(BankApp):\n",
    "    \n",
    "    def mob_login(self):\n",
    "        print(\"Login to mobile\")\n",
    "        \n",
    "    def security(self):\n",
    "        print(\"mobile security\")\n",
    "        \n",
    "#trying to create an object of absract class\n",
    "obj = BankApp()\n",
    "# IT SHOWS Can't instantiate abstract class BankApp with abstract method security "
   ]
  },
  {
   "cell_type": "code",
   "execution_count": null,
   "id": "c347ea4a-3251-42f3-a485-f929a3b80439",
   "metadata": {},
   "outputs": [],
   "source": []
  }
 ],
 "metadata": {
  "kernelspec": {
   "display_name": "Python 3 (ipykernel)",
   "language": "python",
   "name": "python3"
  },
  "language_info": {
   "codemirror_mode": {
    "name": "ipython",
    "version": 3
   },
   "file_extension": ".py",
   "mimetype": "text/x-python",
   "name": "python",
   "nbconvert_exporter": "python",
   "pygments_lexer": "ipython3",
   "version": "3.10.8"
  }
 },
 "nbformat": 4,
 "nbformat_minor": 5
}
